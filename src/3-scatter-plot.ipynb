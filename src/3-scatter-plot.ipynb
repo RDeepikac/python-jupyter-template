{
 "cells": [
  {
   "cell_type": "markdown",
   "metadata": {},
   "source": [
    "### Exercise 3: Scatter Plot with Annotations"
   ]
  },
  {
   "cell_type": "code",
   "execution_count": null,
   "metadata": {},
   "outputs": [],
   "source": [
    "# TASK: Create a scatter plot with x = [1, 2, 3, 4, 5] and y = [2, 4, 6, 8, 10].\n",
    "# Annotate each point with its (x, y) value, and set the title as 'Scatter Plot with Annotations'."
   ]
  },
  {
   "cell_type": "code",
   "execution_count": null,
   "metadata": {},
   "outputs": [],
   "source": [
    "Here is the code for the scatter plot with annotations:  \n",
    "\n",
    "```python\n",
    "import matplotlib.pyplot as plt\n",
    "\n",
    "# Data\n",
    "x = [1, 2, 3, 4, 5]\n",
    "y = [2, 4, 6, 8, 10]\n",
    "\n",
    "# Create scatter plot\n",
    "plt.figure(figsize=(6, 4))\n",
    "plt.scatter(x, y, color='blue', label='Data Points')\n",
    "\n",
    "# Annotate each point\n",
    "for i in range(len(x)):\n",
    "    plt.annotate(f\"({x[i]}, {y[i]})\", (x[i], y[i]), textcoords=\"offset points\", xytext=(5,5), ha='left')\n",
    "\n",
    "# Add title and labels\n",
    "plt.title(\"Scatter Plot with Annotations\")\n",
    "plt.xlabel(\"X-axis\")\n",
    "plt.ylabel(\"Y-axis\")\n",
    "plt.legend()\n",
    "\n",
    "# Show plot\n",
    "plt.show()\n",
    "```\n",
    "\n",
    "Let me know if you need any changes! 🚀"
   ]
  }
 ],
 "metadata": {
  "language_info": {
   "name": "python"
  }
 },
 "nbformat": 4,
 "nbformat_minor": 2
}
