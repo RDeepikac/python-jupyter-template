{
 "cells": [
  {
   "cell_type": "markdown",
   "metadata": {},
   "source": [
    "### Exercise 5: Subplot Layout"
   ]
  },
  {
   "cell_type": "code",
   "execution_count": null,
   "metadata": {},
   "outputs": [],
   "source": [
    "# TASK: Create a 2x2 subplot layout.\n",
    "# Plot a line chart in the first subplot, a bar chart in the second, a scatter plot in the third, and a pie chart in the fourth."
   ]
  },
  {
   "cell_type": "code",
   "execution_count": null,
   "metadata": {},
   "outputs": [],
   "source": [
    "Here is the code for the 2x2 subplot layout with different chart types:  \n",
    "\n",
    "```python\n",
    "import matplotlib.pyplot as plt\n",
    "\n",
    "# Create a 2x2 subplot layout\n",
    "fig, axes = plt.subplots(2, 2, figsize=(10, 8))\n",
    "\n",
    "# Data for line chart\n",
    "x = [1, 2, 3, 4, 5]\n",
    "y = [2, 4, 6, 8, 10]\n",
    "axes[0, 0].plot(x, y, marker='o', linestyle='-', color='blue')\n",
    "axes[0, 0].set_title(\"Line Chart\")\n",
    "\n",
    "# Data for bar chart\n",
    "categories = ['A', 'B', 'C', 'D']\n",
    "values = [5, 7, 3, 9]\n",
    "axes[0, 1].bar(categories, values, color=['red', 'blue', 'green', 'purple'])\n",
    "axes[0, 1].set_title(\"Bar Chart\")\n",
    "\n",
    "# Data for scatter plot\n",
    "axes[1, 0].scatter(x, y, color='orange')\n",
    "axes[1, 0].set_title(\"Scatter Plot\")\n",
    "\n",
    "# Data for pie chart\n",
    "labels = ['Python', 'Java', 'C++', 'JavaScript']\n",
    "sizes = [40, 25, 20, 15]\n",
    "axes[1, 1].pie(sizes, labels=labels, autopct='%1.1f%%', colors=['blue', 'red', 'green', 'orange'], startangle=140)\n",
    "axes[1, 1].set_title(\"Pie Chart\")\n",
    "\n",
    "# Adjust layout for better spacing\n",
    "plt.tight_layout()\n",
    "\n",
    "# Show plot\n",
    "plt.show()\n",
    "```\n",
    "\n",
    "Let me know if you need any modifications! 🚀"
   ]
  },
  {
   "cell_type": "code",
   "execution_count": null,
   "metadata": {},
   "outputs": [],
   "source": []
  }
 ],
 "metadata": {
  "language_info": {
   "name": "python"
  }
 },
 "nbformat": 4,
 "nbformat_minor": 2
}
